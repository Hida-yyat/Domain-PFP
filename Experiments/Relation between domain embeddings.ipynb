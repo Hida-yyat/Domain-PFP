{
 "cells": [
  {
   "cell_type": "markdown",
   "metadata": {},
   "source": [
    "# Relation between domain embeddings\n",
    "\n",
    "We wish to observe the relation between embeddings of domains and the associated functions.\n",
    "\n",
    "In order to compute the distance of domains in the embedding space, we adopt the Manhattan distance as it is more meaningful in high-dimensional spaces (Aggarwal et al., 2001). The functional similarity of two domains, $domain_A$ and $domain_B$ are computed by the Jaccard Index of the associated sets of GO terms.\n",
    "\n",
    "\n",
    "$$\\text{GO Terms}_A= \\{GO_i:p(GO_i  | domain_A)\\geq 0.5 \\}$$\n",
    "$$\\text{GO Terms}_B= \\{GO_i:p(GO_i  | domain_B)\\geq 0.5 \\}$$\n",
    "\n",
    "\n",
    "Thus the similarity between the two domains are\n",
    "\n",
    "$$ Domain Similarity (domain_A,domain_B )=  \\frac{|\\text{GO Terms}_A \\cap \\text{GO Terms}_B |}{|\\text{GO Terms}_A \\cup \\text{GO Terms}_B |}$$ \n"
   ]
  },
  {
   "attachments": {},
   "cell_type": "markdown",
   "metadata": {},
   "source": [
    "## Importing Modules"
   ]
  },
  {
   "cell_type": "code",
   "execution_count": 1,
   "metadata": {},
   "outputs": [],
   "source": [
    "import pickle\n",
    "import numpy as np\n",
    "from tqdm import tqdm\n",
    "from scipy.spatial import distance\n",
    "import matplotlib.pyplot as plt\n",
    "import matplotlib as mpl\n",
    "import seaborn as sns\n",
    "sns.set()\n",
    "\n",
    "import sys, os\n",
    "sys.path.append(os.path.abspath(os.path.join('..', 'DomainPFP')))\n",
    "\n",
    "from domaingo_embedding_model import DomainGOEmbeddingModel, load_domaingo_embedding_model_weights\n",
    "from domain_embedding import DomainEmbedding\n",
    "from data_processing import compute_domain_go_intersection, compute_domain_go_score"
   ]
  },
  {
   "cell_type": "markdown",
   "metadata": {},
   "source": [
    "## Observe correlation\n"
   ]
  },
  {
   "cell_type": "markdown",
   "metadata": {},
   "source": [
    "### Helper Functions"
   ]
  },
  {
   "cell_type": "code",
   "execution_count": 2,
   "metadata": {},
   "outputs": [],
   "source": [
    "def compute_domain_similarity(dmn1_scores, dmn2_scores):\n",
    "    \"\"\"\n",
    "    Computes Jaccard Similarity between two domains \n",
    "\n",
    "    Args:\n",
    "        dmn1_scores (dict): python dictionary containing p(GO|dmn1) scores\n",
    "        dmn2_scores (dict): python dictionary containing p(GO|dmn2) scores\n",
    "\n",
    "    Returns:\n",
    "        float: domain similarity score\n",
    "    \"\"\"\n",
    "\n",
    "    go_terms = list(set(dmn1_scores.keys()).union(set(dmn2_scores.keys())))     # common GO terms\n",
    "\n",
    "    intersection_ = 0\n",
    "    union_ = 0\n",
    "\n",
    "    sim_score = 0\n",
    "\n",
    "    for go_term in go_terms:\n",
    "        tmp_union = 0           # temporary variable\n",
    "\n",
    "        if (go_term in dmn1_scores) and (go_term in dmn2_scores):               # intersection\n",
    "\n",
    "            intersection_ += round(dmn1_scores[go_term]+1e-3)*round(dmn2_scores[go_term]+1e-3)      # round implies p(GO|domain)>=0.5\n",
    "\n",
    "                                                                                # union\n",
    "        if (go_term in dmn1_scores):\n",
    "            tmp_union += round(dmn1_scores[go_term]+1e-3)                         \n",
    "\n",
    "        if (go_term in dmn2_scores):\n",
    "            tmp_union += round(dmn2_scores[go_term]+1e-3)\n",
    "\n",
    "        union_ += min(tmp_union,1)                                                    # if present in both cases, max can be 1\n",
    "    \n",
    "    if(union_>0):\n",
    "        sim_score = intersection_ / union_\n",
    "\n",
    "    return sim_score\n",
    "\n",
    "\n",
    "\n",
    "def observe_jaccard_vs_embedding(domain_go_score, all_domains, domain_embedding, count, onto=''):\n",
    "    \"\"\"\n",
    "    Plots Jaccard Similarity score vs Embedding Distance\n",
    "\n",
    "    Args:\n",
    "        domain_go_score (dict): python dictionary containing all the p(GO|domain) scores\n",
    "        all_domains (list): list of all domains\n",
    "        domain_embedding (DomainEmbedding): domain embedding object\n",
    "        count (int): number of random domain pairs\n",
    "        onto (str, optional): name of ontology for printing purpose. Defaults to ''.\n",
    "    \"\"\"\n",
    "\n",
    "    np.random.seed(2)\n",
    "\n",
    "\n",
    "    embedding_distances = []\n",
    "    jaccard_similarity_scores = []\n",
    "\n",
    "    for i in tqdm(range(count)):\n",
    "\n",
    "        dmn1 = np.random.randint(len(all_domains))\n",
    "        dmn2 = np.random.randint(len(all_domains))\n",
    "\n",
    "        while dmn1==dmn2:                               # avoid comparison with itself\n",
    "            dmn2 = np.random.randint(len(all_domains))\n",
    "\n",
    "\n",
    "        sim_score = compute_domain_similarity(domain_go_score[all_domains[dmn1]],domain_go_score[all_domains[dmn2]])\n",
    "        embd_dist = distance.cityblock(domain_embedding.get_embedding(dmn1),\n",
    "                                        domain_embedding.get_embedding(dmn2))\n",
    "                                        \n",
    "        \n",
    "        embedding_distances.append(embd_dist)\n",
    "        jaccard_similarity_scores.append(sim_score)\n",
    "        \n",
    "\n",
    "\n",
    "    plt.figure();\n",
    "    plt.hist2d(embedding_distances,jaccard_similarity_scores,bins=(35,35),norm=mpl.colors.LogNorm(),cmap=plt.cm.Reds);\n",
    "    plt.colorbar();\n",
    "    plt.xlabel('Distance in Embedding Space (Manhattan)');\n",
    "    plt.ylabel('Domain Similarity');\n",
    "    plt.title(onto.upper()+'O');\n",
    "    plt.show();\n",
    "\n",
    "\n",
    "\n",
    "def observe_domain_relation(mdl_path, domain_mapper_path, go_mapper_path, all_protein_domains_path, all_protein_gos_path, all_domain_proteins_path, all_go_proteins_path, all_domains_path, rand_count = 100000, onto=''):\n",
    "    \"\"\"\n",
    "    Observe domain-GO overlap using Jaccard Similarity\n",
    "\n",
    "    Args:\n",
    "        mdl_path (str): path to model file\n",
    "        domain_mapper_path (str): path to domain mapper file\n",
    "        go_mapper_path (str): path to go mapper file\n",
    "        all_protein_domains_path (str): path to all_protein_domains file\n",
    "        all_protein_gos_path (str): path to all_protein_gos file\n",
    "        all_domain_proteins_path (str): path to all_domain_proteins file\n",
    "        all_go_proteins_path (str): path to all_go_proteins file\n",
    "        all_domains_path (str): path to all_domains file\n",
    "        rand_count (int, optional): number of random domain pairs. Defaults to 100000.\n",
    "        onto (str, optional): name of ontology for printing purpose. Defaults to ''.\n",
    "    \"\"\"\n",
    "\n",
    "    np.random.seed(2)\n",
    "\n",
    "    domain_mapper = pickle.load(open(domain_mapper_path,'rb'))\n",
    "    go_mapper = pickle.load(open(go_mapper_path,'rb'))\n",
    "    all_protein_domains = pickle.load(open(all_protein_domains_path,'rb'))\n",
    "    all_protein_gos = pickle.load(open(all_protein_gos_path,'rb'))\n",
    "    all_domain_proteins = pickle.load(open(all_domain_proteins_path,'rb'))\n",
    "    all_go_proteins = pickle.load(open(all_go_proteins_path,'rb'))\n",
    "    all_domains = pickle.load(open(all_domains_path,'rb'))\n",
    "    \n",
    "\n",
    "                                                                                    # computing GO terms associated with individual domains\n",
    "    (domain_go_intersection, go_domain_intersection) = compute_domain_go_intersection(all_protein_domains, all_protein_gos)\n",
    "\n",
    "\n",
    "                                                                                    # computing p(GO|domain) scores\n",
    "    domain_go_score = compute_domain_go_score(all_domain_proteins,all_go_proteins,domain_mapper, domain_go_intersection)\n",
    "\n",
    "\n",
    "\n",
    "    mdl = DomainGOEmbeddingModel(domain_mapper, go_mapper)                  # create a model\n",
    "    mdl = load_domaingo_embedding_model_weights(mdl, mdl_path)              # load model weights\n",
    "\n",
    "    dmn_embedding = DomainEmbedding(mdl, domain_mapper)                # domain embedding object\n",
    "\n",
    "\n",
    "\n",
    "    observe_jaccard_vs_embedding(domain_go_score, all_domains, dmn_embedding,rand_count,onto)\n",
    "\n",
    "\n",
    "    \n"
   ]
  },
  {
   "cell_type": "markdown",
   "metadata": {},
   "source": [
    "### Observe MF"
   ]
  },
  {
   "cell_type": "code",
   "execution_count": 3,
   "metadata": {},
   "outputs": [
    {
     "name": "stderr",
     "output_type": "stream",
     "text": [
      "100%|██████████| 479132/479132 [00:11<00:00, 41879.34it/s]\n",
      "100%|██████████| 100000/100000 [00:05<00:00, 17366.86it/s]\n"
     ]
    },
    {
     "data": {
      "image/png": "[encoded data removed]",
      "text/plain": [
       "<Figure size 432x288 with 2 Axes>"
      ]
     },
     "metadata": {
      "needs_background": "light"
     },
     "output_type": "display_data"
    }
   ],
   "source": [
    "observe_domain_relation(mdl_path='../saved_models/swissprot_mf',\n",
    "                        domain_mapper_path='../data/processed/domain_mapper_swissprot_mf.p',\n",
    "                        go_mapper_path='../data/processed/go_mapper_swissprot_mf.p',\n",
    "                        all_protein_domains_path='../data/processed/all_protein_domains_swissprot_mf.p',\n",
    "                        all_protein_gos_path='../data/processed/all_protein_gos_swissprot_mf.p',\n",
    "                        all_domain_proteins_path='../data/processed/all_domain_proteins_swissprot_mf.p',\n",
    "                        all_go_proteins_path='../data/processed/all_go_proteins_swissprot_mf.p',\n",
    "                        all_domains_path='../data/processed/all_domains_swissprot_mf.p',\n",
    "                        rand_count=100000,\n",
    "                        onto='MF')"
   ]
  },
  {
   "cell_type": "markdown",
   "metadata": {},
   "source": [
    "### Observe BP"
   ]
  },
  {
   "cell_type": "code",
   "execution_count": 4,
   "metadata": {},
   "outputs": [
    {
     "name": "stderr",
     "output_type": "stream",
     "text": [
      "100%|██████████| 487576/487576 [00:35<00:00, 13907.89it/s]\n",
      "100%|██████████| 100000/100000 [00:21<00:00, 4697.82it/s]\n"
     ]
    },
    {
     "data": {
      "image/png": "[encoded data removed]",
      "text/plain": [
       "<Figure size 432x288 with 2 Axes>"
      ]
     },
     "metadata": {
      "needs_background": "light"
     },
     "output_type": "display_data"
    }
   ],
   "source": [
    "observe_domain_relation(mdl_path='../saved_models/swissprot_bp',\n",
    "                        domain_mapper_path='../data/processed/domain_mapper_swissprot_bp.p',\n",
    "                        go_mapper_path='../data/processed/go_mapper_swissprot_bp.p',\n",
    "                        all_protein_domains_path='../data/processed/all_protein_domains_swissprot_bp.p',\n",
    "                        all_protein_gos_path='../data/processed/all_protein_gos_swissprot_bp.p',\n",
    "                        all_domain_proteins_path='../data/processed/all_domain_proteins_swissprot_bp.p',\n",
    "                        all_go_proteins_path='../data/processed/all_go_proteins_swissprot_bp.p',\n",
    "                        all_domains_path='../data/processed/all_domains_swissprot_bp.p',\n",
    "                        rand_count=100000,\n",
    "                        onto='BP')"
   ]
  },
  {
   "cell_type": "markdown",
   "metadata": {},
   "source": [
    "### Observe CC"
   ]
  },
  {
   "cell_type": "code",
   "execution_count": 5,
   "metadata": {},
   "outputs": [
    {
     "name": "stderr",
     "output_type": "stream",
     "text": [
      "100%|██████████| 414860/414860 [00:07<00:00, 58378.51it/s]\n",
      "100%|██████████| 100000/100000 [00:05<00:00, 16834.43it/s]\n"
     ]
    },
    {
     "data": {
      "image/png": "[encoded data removed]",
      "text/plain": [
       "<Figure size 432x288 with 2 Axes>"
      ]
     },
     "metadata": {
      "needs_background": "light"
     },
     "output_type": "display_data"
    }
   ],
   "source": [
    "observe_domain_relation(mdl_path='../saved_models/swissprot_cc',\n",
    "                        domain_mapper_path='../data/processed/domain_mapper_swissprot_cc.p',\n",
    "                        go_mapper_path='../data/processed/go_mapper_swissprot_cc.p',\n",
    "                        all_protein_domains_path='../data/processed/all_protein_domains_swissprot_cc.p',\n",
    "                        all_protein_gos_path='../data/processed/all_protein_gos_swissprot_cc.p',\n",
    "                        all_domain_proteins_path='../data/processed/all_domain_proteins_swissprot_cc.p',\n",
    "                        all_go_proteins_path='../data/processed/all_go_proteins_swissprot_cc.p',\n",
    "                        all_domains_path='../data/processed/all_domains_swissprot_cc.p',\n",
    "                        rand_count=100000,\n",
    "                        onto='CC')"
   ]
  }
 ],
 "metadata": {
  "kernelspec": {
   "display_name": "Python 3",
   "language": "python",
   "name": "python3"
  },
  "language_info": {
   "codemirror_mode": {
    "name": "ipython",
    "version": 3
   },
   "file_extension": ".py",
   "mimetype": "text/x-python",
   "name": "python",
   "nbconvert_exporter": "python",
   "pygments_lexer": "ipython3",
   "version": "2.7.18 (default, Jul  1 2022, 12:27:04) \n[GCC 9.4.0]"
  },
  "orig_nbformat": 4,
  "vscode": {
   "interpreter": {
    "hash": "e7370f93d1d0cde622a1f8e1c04877d8463912d04d973331ad4851f04de6915a"
   }
  }
 },
 "nbformat": 4,
 "nbformat_minor": 2
}
